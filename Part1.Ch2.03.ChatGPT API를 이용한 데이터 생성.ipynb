{
 "cells": [
  {
   "cell_type": "code",
   "execution_count": 1,
   "metadata": {},
   "outputs": [
    {
     "name": "stdout",
     "output_type": "stream",
     "text": [
      "Collecting openai\n",
      "  Downloading openai-1.82.1-py3-none-any.whl.metadata (25 kB)\n",
      "Collecting anyio<5,>=3.5.0 (from openai)\n",
      "  Using cached anyio-4.9.0-py3-none-any.whl.metadata (4.7 kB)\n",
      "Collecting distro<2,>=1.7.0 (from openai)\n",
      "  Using cached distro-1.9.0-py3-none-any.whl.metadata (6.8 kB)\n",
      "Collecting httpx<1,>=0.23.0 (from openai)\n",
      "  Using cached httpx-0.28.1-py3-none-any.whl.metadata (7.1 kB)\n",
      "Collecting jiter<1,>=0.4.0 (from openai)\n",
      "  Downloading jiter-0.10.0-cp311-cp311-macosx_11_0_arm64.whl.metadata (5.2 kB)\n",
      "Collecting pydantic<3,>=1.9.0 (from openai)\n",
      "  Using cached pydantic-2.11.5-py3-none-any.whl.metadata (67 kB)\n",
      "Collecting sniffio (from openai)\n",
      "  Using cached sniffio-1.3.1-py3-none-any.whl.metadata (3.9 kB)\n",
      "Collecting tqdm>4 (from openai)\n",
      "  Using cached tqdm-4.67.1-py3-none-any.whl.metadata (57 kB)\n",
      "Requirement already satisfied: typing-extensions<5,>=4.11 in /opt/anaconda3/envs/fc_fine_tune/lib/python3.11/site-packages (from openai) (4.13.2)\n",
      "Collecting idna>=2.8 (from anyio<5,>=3.5.0->openai)\n",
      "  Using cached idna-3.10-py3-none-any.whl.metadata (10 kB)\n",
      "Collecting certifi (from httpx<1,>=0.23.0->openai)\n",
      "  Using cached certifi-2025.4.26-py3-none-any.whl.metadata (2.5 kB)\n",
      "Collecting httpcore==1.* (from httpx<1,>=0.23.0->openai)\n",
      "  Using cached httpcore-1.0.9-py3-none-any.whl.metadata (21 kB)\n",
      "Collecting h11>=0.16 (from httpcore==1.*->httpx<1,>=0.23.0->openai)\n",
      "  Using cached h11-0.16.0-py3-none-any.whl.metadata (8.3 kB)\n",
      "Collecting annotated-types>=0.6.0 (from pydantic<3,>=1.9.0->openai)\n",
      "  Using cached annotated_types-0.7.0-py3-none-any.whl.metadata (15 kB)\n",
      "Collecting pydantic-core==2.33.2 (from pydantic<3,>=1.9.0->openai)\n",
      "  Using cached pydantic_core-2.33.2-cp311-cp311-macosx_11_0_arm64.whl.metadata (6.8 kB)\n",
      "Collecting typing-inspection>=0.4.0 (from pydantic<3,>=1.9.0->openai)\n",
      "  Using cached typing_inspection-0.4.1-py3-none-any.whl.metadata (2.6 kB)\n",
      "Downloading openai-1.82.1-py3-none-any.whl (720 kB)\n",
      "\u001b[2K   \u001b[90m━━━━━━━━━━━━━━━━━━━━━━━━━━━━━━━━━━━━━━━━\u001b[0m \u001b[32m720.5/720.5 kB\u001b[0m \u001b[31m15.5 MB/s\u001b[0m eta \u001b[36m0:00:00\u001b[0m\n",
      "\u001b[?25hUsing cached anyio-4.9.0-py3-none-any.whl (100 kB)\n",
      "Using cached distro-1.9.0-py3-none-any.whl (20 kB)\n",
      "Using cached httpx-0.28.1-py3-none-any.whl (73 kB)\n",
      "Using cached httpcore-1.0.9-py3-none-any.whl (78 kB)\n",
      "Downloading jiter-0.10.0-cp311-cp311-macosx_11_0_arm64.whl (321 kB)\n",
      "Using cached pydantic-2.11.5-py3-none-any.whl (444 kB)\n",
      "Using cached pydantic_core-2.33.2-cp311-cp311-macosx_11_0_arm64.whl (1.9 MB)\n",
      "Using cached annotated_types-0.7.0-py3-none-any.whl (13 kB)\n",
      "Using cached h11-0.16.0-py3-none-any.whl (37 kB)\n",
      "Using cached idna-3.10-py3-none-any.whl (70 kB)\n",
      "Using cached sniffio-1.3.1-py3-none-any.whl (10 kB)\n",
      "Using cached tqdm-4.67.1-py3-none-any.whl (78 kB)\n",
      "Using cached typing_inspection-0.4.1-py3-none-any.whl (14 kB)\n",
      "Using cached certifi-2025.4.26-py3-none-any.whl (159 kB)\n",
      "Installing collected packages: typing-inspection, tqdm, sniffio, pydantic-core, jiter, idna, h11, distro, certifi, annotated-types, pydantic, httpcore, anyio, httpx, openai\n",
      "\u001b[2K   \u001b[90m━━━━━━━━━━━━━━━━━━━━━━━━━━━━━━━━━━━━━━━━\u001b[0m \u001b[32m15/15\u001b[0m [openai]14/15\u001b[0m [openai]c]\n",
      "\u001b[1A\u001b[2KSuccessfully installed annotated-types-0.7.0 anyio-4.9.0 certifi-2025.4.26 distro-1.9.0 h11-0.16.0 httpcore-1.0.9 httpx-0.28.1 idna-3.10 jiter-0.10.0 openai-1.82.1 pydantic-2.11.5 pydantic-core-2.33.2 sniffio-1.3.1 tqdm-4.67.1 typing-inspection-0.4.1\n"
     ]
    }
   ],
   "source": [
    "!pip install openai"
   ]
  },
  {
   "cell_type": "code",
   "execution_count": 2,
   "metadata": {},
   "outputs": [],
   "source": [
    "import openai\n",
    "client = openai.OpenAI(api_key=\"\")"
   ]
  },
  {
   "cell_type": "code",
   "execution_count": null,
   "metadata": {},
   "outputs": [],
   "source": [
    "response = client.chat.completions.create(\n",
    "    model='gpt-4o',\n",
    "    messages=[\n",
    "        {\"role\": \"user\", \"content\": \"2020년 월드 시리즈에서는 누가 우승했어?\"}\n",
    "    ]\n",
    ")"
   ]
  },
  {
   "cell_type": "code",
   "execution_count": 7,
   "metadata": {},
   "outputs": [
    {
     "data": {
      "text/plain": [
       "ChatCompletion(id='chatcmpl-Bcoap7yIblYFqx6cxO9tYC1rTt7bq', choices=[Choice(finish_reason='stop', index=0, logprobs=None, message=ChatCompletionMessage(content='2020년 월드 시리즈에서는 로스앤젤레스 다저스가 우승했습니다. 다저스는 탬파베이 레이스를 상대로 시리즈를 4승 2패로 마무리하며 승리했습니다. 이는 다저스의 32년 만의 월드 시리즈 우승이었습니다.', refusal=None, role='assistant', annotations=[], audio=None, function_call=None, tool_calls=None))], created=1748590643, model='gpt-4o-2024-08-06', object='chat.completion', service_tier='default', system_fingerprint='fp_07871e2ad8', usage=CompletionUsage(completion_tokens=73, prompt_tokens=22, total_tokens=95, completion_tokens_details=CompletionTokensDetails(accepted_prediction_tokens=0, audio_tokens=0, reasoning_tokens=0, rejected_prediction_tokens=0), prompt_tokens_details=PromptTokensDetails(audio_tokens=0, cached_tokens=0)))"
      ]
     },
     "execution_count": 7,
     "metadata": {},
     "output_type": "execute_result"
    }
   ],
   "source": [
    "response"
   ]
  },
  {
   "cell_type": "code",
   "execution_count": 6,
   "metadata": {},
   "outputs": [
    {
     "name": "stdout",
     "output_type": "stream",
     "text": [
      "2020년 월드 시리즈에서는 로스앤젤레스 다저스가 우승했습니다. 다저스는 탬파베이 레이스를 상대로 시리즈를 4승 2패로 마무리하며 승리했습니다. 이는 다저스의 32년 만의 월드 시리즈 우승이었습니다.\n"
     ]
    }
   ],
   "source": [
    "print(response.choices[0].message.content)"
   ]
  },
  {
   "cell_type": "code",
   "execution_count": 8,
   "metadata": {},
   "outputs": [],
   "source": [
    "response = client.chat.completions.create(\n",
    "    model='gpt-4o',\n",
    "    messages=[\n",
    "        {\"role\": \"system\", \"content\": \"너는 친절하게 답변해주는 비서야. 답변은 반말로 해줘\"},\n",
    "        {\"role\": \"user\", \"content\": \"2020년 월드 시리즈에서는 누가 우승했어?\"}\n",
    "    ]\n",
    ")"
   ]
  },
  {
   "cell_type": "code",
   "execution_count": 9,
   "metadata": {},
   "outputs": [
    {
     "name": "stdout",
     "output_type": "stream",
     "text": [
      "2020년 월드 시리즈에서는 로스앤젤레스 다저스가 우승했어. 탬파베이 레이스를 상대로 시리즈를 4승 2패로 마무리했지.\n"
     ]
    }
   ],
   "source": [
    "print(response.choices[0].message.content)"
   ]
  },
  {
   "cell_type": "code",
   "execution_count": 10,
   "metadata": {},
   "outputs": [],
   "source": [
    "response = client.chat.completions.create(\n",
    "    model='gpt-4o',\n",
    "    messages=[\n",
    "        {\"role\": \"system\", \"content\": \"You must only answer users' questions in English. This must be honored. You must only answer in English.\"},\n",
    "        {\"role\": \"user\", \"content\": \"2020년 월드 시리즈에서는 누가 우승했어?\"}\n",
    "    ]\n",
    ")"
   ]
  },
  {
   "cell_type": "code",
   "execution_count": 11,
   "metadata": {},
   "outputs": [
    {
     "name": "stdout",
     "output_type": "stream",
     "text": [
      "In the 2020 World Series, the Los Angeles Dodgers emerged as the champions. They defeated the Tampa Bay Rays to win the series.\n"
     ]
    }
   ],
   "source": [
    "print(response.choices[0].message.content)"
   ]
  },
  {
   "cell_type": "code",
   "execution_count": 12,
   "metadata": {},
   "outputs": [],
   "source": [
    "response = client.chat.completions.create(\n",
    "    model='gpt-4o',\n",
    "    messages=[\n",
    "        {\"role\": \"system\", \"content\": \"너는 한글을 영어로 번역하는 전문가야. 사용자의 질문에 답변을 하지말고 한글 입력을 고급 영어로 번역하십시요.\"},\n",
    "        {\"role\": \"user\", \"content\": \"2020년 월드 시리즈에서는 누가 우승했어?\"}\n",
    "    ]\n",
    ")"
   ]
  },
  {
   "cell_type": "code",
   "execution_count": 13,
   "metadata": {},
   "outputs": [
    {
     "name": "stdout",
     "output_type": "stream",
     "text": [
      "Which team emerged victorious in the 2020 World Series?\n"
     ]
    }
   ],
   "source": [
    "print(response.choices[0].message.content)"
   ]
  },
  {
   "cell_type": "code",
   "execution_count": 14,
   "metadata": {},
   "outputs": [],
   "source": [
    "# API 에 이전 대화 내용 포함\n",
    "\n",
    "response = client.chat.completions.create(\n",
    "    model='gpt-4o',\n",
    "    messages=[\n",
    "        {\"role\": \"system\", \"content\": \"2002년 월드컵에서 가장 화제가 되었던 나라는 어디야?\"},\n",
    "        {\"role\": \"assistant\", \"content\": \"바로 예상을 뚫고 4강 진출 신화를 일으킨 한국입니다.\"},\n",
    "        {\"role\": \"user\", \"content\": \"그 나라가 화제가 되었던 이유를 자세하게 설명해줘.\"}\n",
    "    ]\n",
    ")"
   ]
  },
  {
   "cell_type": "code",
   "execution_count": 15,
   "metadata": {},
   "outputs": [
    {
     "name": "stdout",
     "output_type": "stream",
     "text": [
      "2002년 월드컵에서 한국이 화제가 되었던 이유는 여러 가지가 있습니다.\n",
      "\n",
      "1. **역대 최고 성적**: 한국은 이번 대회에서 사상 처음으로 준결승에 진출하며 역대 최고 성적을 기록했습니다. 이는 아시아 국가 중에서도 최초의 4강 진출로 기록되었습니다.\n",
      "\n",
      "2. **약체의 반란**: 한국은 당시 세계 축구 무대에서 약체로 평가받고 있었지만, 이번 월드컵에서 강력한 팀들을 차례로 물리쳤습니다. 특히, 16강에서는 이탈리아를, 8강에서는 스페인을 꺾으며 모두를 놀라게 했습니다.\n",
      "\n",
      "3. **히딩크 감독의 리더십**: 한국 팀의 성공적인 결과에는 거스 히딩크 감독의 리더십과 전술이 큰 역할을 했습니다. 그는 선수들의 체력과 정신력을 끌어올렸고, 전략적인 경기 운영을 통해 대회 내내 놀라운 성과를 거두었습니다.\n",
      "\n",
      "4. **홈경기 이점**: 2002년 월드컵은 한국과 일본이 공동 개최하여, 한국은 홈 팬들의 뜨거운 성원을 받으며 경기를 치를 수 있었습니다. 이는 선수들에게 큰 힘이 되었고 경기력에도 긍정적인 영향을 미쳤습니다.\n",
      "\n",
      "5. **감동적인 경기**: 한국의 경기는 여러 극적인 순간들로 가득 차 있었습니다. 특히 안정환의 골든골로 이탈리아를 물리쳤던 16강전과, 승부차기 끝에 승리한 스페인과의 8강전은 팬들에게 큰 감동을 주었습니다.\n",
      "\n",
      "이러한 이유들로 인해 2002년 월드컵에서 한국은 전 세계적으로 큰 화제가 되었고, 대회 내내 축구 팬들에게 많은 이야깃거리를 제공했습니다.\n"
     ]
    }
   ],
   "source": [
    "print(response.choices[0].message.content)"
   ]
  },
  {
   "cell_type": "markdown",
   "metadata": {},
   "source": [
    "## AI 서비스 개발해 보기"
   ]
  },
  {
   "cell_type": "markdown",
   "metadata": {},
   "source": [
    "### 뉴스 기사를 분석해주는 인공지능\n",
    "---\n"
   ]
  },
  {
   "cell_type": "code",
   "execution_count": 16,
   "metadata": {},
   "outputs": [],
   "source": [
    "def return_answer(input_text=''):\n",
    "    system_prompt = \"\"\"특정 문서가 입력되면 다음과 같은 형태로 문서를 분석하십시오.\n",
    "\n",
    "1. 주어진 입력:에 대해서 반드시 주제:, 요약:, 가능한 질문: 이 세가지를 순차적으로 작성해야 합니다.\n",
    "2. 주제:는 입력 문서의 주제를 한 줄로 요약합니다.\n",
    "3. 요약:은 입력 문서를 5줄로 요약합니다.\n",
    "4. 가능한 질문:은 입력 문서로부부터 사람들이 할 수 있는 질문 세 가지를 파이썬 리스트 형태로 작성합니다.\n",
    "5. 가능한 질문:이 반드시 [\"질문1\", \"질문2\", \"질문3\"]과 같이 파이썬 리스트 형태로 작성되어야 하는 점에 유의하십시오.\n",
    "\n",
    "이제 시작합니다.\"\"\"\n",
    "\n",
    "    user_content = \"입력: \" + input_text + '\\n답변:'\n",
    "\n",
    "    print('최종 유저 프롬프트')\n",
    "    print('==' * 50)\n",
    "    print(user_content)\n",
    "    print('==' * 50)\n",
    "\n",
    "    response = client.chat.completions.create(\n",
    "    model=\"gpt-4o\",\n",
    "    messages=[\n",
    "        {\"role\": \"system\", \"content\": system_prompt},\n",
    "          {\"role\": \"user\", \"content\": user_content}\n",
    "      ]\n",
    "    )\n",
    "    return response.choices[0].message.content"
   ]
  },
  {
   "cell_type": "code",
   "execution_count": 17,
   "metadata": {},
   "outputs": [],
   "source": [
    "test = '''새처럼 움직이는 항공 로봇 '레이븐'.\n",
    "\n",
    "스위스 로잔 연방 공대(EPFL) 신원동 박사팀이 개발했는데요.\n",
    "\n",
    "연구팀은 새의 엉덩이와 발목, 발을 참고해 뒷다리를 만들었습니다.\n",
    "\n",
    "실제 새처럼 땅에서 걷고, 틈새를 건너뛰고, 위로 뛰어오릅니다.\n",
    "\n",
    "껑충 뛰면서 날아오르는 이 기능이 핵심인데요.\n",
    "\n",
    "기존 고정익 항공기처럼 지상을 달리지 않고 제자리에서 날아오릅니다.\n",
    "\n",
    "연구팀은 레이븐의 점프 이륙이 점프하지 않고 날아오를 때보다 에너지 효율이 더 높다고 설명했는데요.\n",
    "\n",
    "또 기존 고정익 항공기에 이 기능을 도입하면 복잡한 지형에서도 효율적으로 쓸 수 있을 거라고 덧붙였습니다.\n",
    "\n",
    "#새 #로봇 #항공 #공대 #스위스 #신원동 #박사 #점프'''"
   ]
  },
  {
   "cell_type": "code",
   "execution_count": 18,
   "metadata": {},
   "outputs": [
    {
     "name": "stdout",
     "output_type": "stream",
     "text": [
      "최종 유저 프롬프트\n",
      "====================================================================================================\n",
      "입력: 새처럼 움직이는 항공 로봇 '레이븐'.\n",
      "\n",
      "스위스 로잔 연방 공대(EPFL) 신원동 박사팀이 개발했는데요.\n",
      "\n",
      "연구팀은 새의 엉덩이와 발목, 발을 참고해 뒷다리를 만들었습니다.\n",
      "\n",
      "실제 새처럼 땅에서 걷고, 틈새를 건너뛰고, 위로 뛰어오릅니다.\n",
      "\n",
      "껑충 뛰면서 날아오르는 이 기능이 핵심인데요.\n",
      "\n",
      "기존 고정익 항공기처럼 지상을 달리지 않고 제자리에서 날아오릅니다.\n",
      "\n",
      "연구팀은 레이븐의 점프 이륙이 점프하지 않고 날아오를 때보다 에너지 효율이 더 높다고 설명했는데요.\n",
      "\n",
      "또 기존 고정익 항공기에 이 기능을 도입하면 복잡한 지형에서도 효율적으로 쓸 수 있을 거라고 덧붙였습니다.\n",
      "\n",
      "#새 #로봇 #항공 #공대 #스위스 #신원동 #박사 #점프\n",
      "답변:\n",
      "====================================================================================================\n",
      "주제: 새의 움직임을 모방한 항공 로봇 '레이븐'의 개발과 그 기능적 장점\n",
      "\n",
      "요약: 스위스 로잔 연방 공대의 신원동 박사팀은 새의 엉덩이와 발목, 발을 모방한 항공 로봇 '레이븐'을 개발했습니다. 레이븐은 새처럼 걷고 뛰어오르는 기능을 가지며, 제자리에서 날아오르는 점프 이륙 기능이 핵심입니다. 이러한 기능 덕분에 에너지 효율성을 높일 수 있으며, 복잡한 지형에서도 활용이 가능합니다. 기존의 고정익 항공기에 이 기능을 추가하면 더욱 효율적으로 운용할 수 있을 것으로 기대됩니다.\n",
      "\n",
      "가능한 질문: [\"레이븐 로봇의 핵심 기능은 무엇인가요?\", \"레이븐의 점프 이륙은 어떤 이점이 있나요?\", \"레이븐의 기술을 기존 항공기에 도입하면 어떤 장점이 있을까요?\"]\n"
     ]
    }
   ],
   "source": [
    "result = return_answer(input_text=test)\n",
    "print(result)"
   ]
  },
  {
   "cell_type": "code",
   "execution_count": 19,
   "metadata": {},
   "outputs": [],
   "source": [
    "test = '''\n",
    "꿈의 에너지’라고 불리는 핵융합 에너지가 5년 뒤 현실이 될지도 모른다. 마이크로소프트가 5년 뒤부터 핵융합으로 만든 전기를 사서 쓰겠다는 전기공급 계약을 맺었다.\n",
    "\n",
    "마이크로소프트에게 전기를 공급할 곳은 미국 스타트업 ‘헬리온 에너지’다. 5월 10일 핵융합 발전 스타트업 헬리온 에너지가 마이크로소프트와 계약을 맺었다고 밝혔다. 계약 조건은 2028년부터 헬리온 에너지가 핵융합 발전을 시작하고, 1년 뒤 50메가와트(MW) 이상을 발전해 마이크로소프트에 공급하는 것이다. 계약을 이행하지 못할 경우 헬리온 에너지가 마이크로소프트에 위약금을 내야 한다.\n",
    "\n",
    "하지만 전문가들의 전망은 긍정적이지만은 않다. 사용할 수 있는 정도의 전기를 만들어 내는 실증 시험까지 거친 핵융합 연구가 아직 없기 때문이다. 대신 현실적인 목표 시기는 2040년 이후가 될 것으로 보인다.\n",
    "\n",
    "핵융합 발전 연구는 크게 공공 개발과 민간 개발, 둘로 나뉘는데 둘 중 핵융합 발전 목표 시기가 조금 더 빠른 민간 개발의 목표 시기가 2030년경이다. 다만 지난해 11월 유럽 위원회가 낸 보고서에서는 이 시기를 시험 운영 목표로 하는 건 실패 위험이 높을 것으로 내다봤다. 보고서는 실패 위험이 중간 정도인 시기는 가장 빠른 것이 2036년, 가장 늦은 게 2050년이라고 분석했다.\n",
    "'''"
   ]
  },
  {
   "cell_type": "code",
   "execution_count": 20,
   "metadata": {},
   "outputs": [
    {
     "name": "stdout",
     "output_type": "stream",
     "text": [
      "최종 유저 프롬프트\n",
      "====================================================================================================\n",
      "입력: \n",
      "꿈의 에너지’라고 불리는 핵융합 에너지가 5년 뒤 현실이 될지도 모른다. 마이크로소프트가 5년 뒤부터 핵융합으로 만든 전기를 사서 쓰겠다는 전기공급 계약을 맺었다.\n",
      "\n",
      "마이크로소프트에게 전기를 공급할 곳은 미국 스타트업 ‘헬리온 에너지’다. 5월 10일 핵융합 발전 스타트업 헬리온 에너지가 마이크로소프트와 계약을 맺었다고 밝혔다. 계약 조건은 2028년부터 헬리온 에너지가 핵융합 발전을 시작하고, 1년 뒤 50메가와트(MW) 이상을 발전해 마이크로소프트에 공급하는 것이다. 계약을 이행하지 못할 경우 헬리온 에너지가 마이크로소프트에 위약금을 내야 한다.\n",
      "\n",
      "하지만 전문가들의 전망은 긍정적이지만은 않다. 사용할 수 있는 정도의 전기를 만들어 내는 실증 시험까지 거친 핵융합 연구가 아직 없기 때문이다. 대신 현실적인 목표 시기는 2040년 이후가 될 것으로 보인다.\n",
      "\n",
      "핵융합 발전 연구는 크게 공공 개발과 민간 개발, 둘로 나뉘는데 둘 중 핵융합 발전 목표 시기가 조금 더 빠른 민간 개발의 목표 시기가 2030년경이다. 다만 지난해 11월 유럽 위원회가 낸 보고서에서는 이 시기를 시험 운영 목표로 하는 건 실패 위험이 높을 것으로 내다봤다. 보고서는 실패 위험이 중간 정도인 시기는 가장 빠른 것이 2036년, 가장 늦은 게 2050년이라고 분석했다.\n",
      "\n",
      "답변:\n",
      "====================================================================================================\n",
      "주제: 마이크로소프트와 헬리온 에너지 간의 핵융합 발전 전력 공급 계약 및 그 실현 가능성\n",
      "\n",
      "요약: 꿈의 에너지로 불리는 핵융합 에너지가 상용화될 가능성이 제기되었다. 마이크로소프트는 5년 뒤 핵융합으로 만들어진 전기를 헬리온 에너지로부터 공급받기로 계약했다. 헬리온 에너지는 2028년부터 발전을 시작해 1년 뒤 50MW 이상의 전력을 공급해야 하며, 이를 이행하지 못할 시 위약금을 물어야 한다. 전문가들은 실현 가능성에 대해 회의적이며, 유럽 위원회 보고서는 목표 시기가 2036년에서 2050년 사이가 될 것으로 예측한다. 결국, 핵융합 발전이 상용화되기까지 현실적인 시기는 2040년 이후로 보인다.\n",
      "\n",
      "가능한 질문: \n",
      "[\"헬리온 에너지가 마이크로소프트와 맺은 계약의 주요 조건은 무엇인가?\", \"전문가들이 핵융합 발전 상용화에 대해 부정적인 이유는 무엇인가?\", \"유럽 위원회 보고서에 따르면 핵융합 발전의 언제쯤 시험 운영이 가능한가?\"]\n"
     ]
    }
   ],
   "source": [
    "result = return_answer(input_text=test)\n",
    "print(result)"
   ]
  },
  {
   "cell_type": "markdown",
   "metadata": {},
   "source": [
    "### 키워드 추출\n",
    "---"
   ]
  },
  {
   "cell_type": "code",
   "execution_count": 21,
   "metadata": {},
   "outputs": [],
   "source": [
    "def return_answer(input_text):\n",
    "    system_prompt = \"\"\"You are an expert at extracting keywords from a given sentence. Extract keywords from a given sentence that are key to the context.\n",
    "\n",
    "    [Example]\n",
    "    input: '외신에 따르면 중국 이카이글로벌 보도를 인용해 모더나가 중국 전용 mRNA 백신 개발을 위해 중국에 최대 10억달러(약 1조3017억원)를 투자하기로 했다고 보도했다.'\n",
    "    keyword: ['모더나', 'mRNA', '1조3017억원']\n",
    "\n",
    "    Now the sentence you want to extract keywords from.\n",
    "    The output format must be a list in Python.\n",
    "    \"\"\"\n",
    "\n",
    "    user_content = \"input: \" + input_text + \"\\nkeyword: \"\n",
    "\n",
    "    print('최종 유저 프롬프트')\n",
    "    print('==' * 50)\n",
    "    print(user_content)\n",
    "    print('==' * 50)\n",
    "\n",
    "    response = client.chat.completions.create(\n",
    "    model=\"gpt-4o\",\n",
    "    messages=[\n",
    "        {\"role\": \"system\", \"content\": system_prompt},\n",
    "          {\"role\": \"user\", \"content\": user_content}\n",
    "      ],\n",
    "    temperature=0\n",
    "    )\n",
    "    return response.choices[0].message.content"
   ]
  },
  {
   "cell_type": "code",
   "execution_count": 22,
   "metadata": {},
   "outputs": [],
   "source": [
    "text = '''3일 업계에 따르면 서울 신라호텔의 더 파크뷰는 12월 1∼20일 저녁 가격을 19만5000원으로, 21∼31일 저녁 가격을 21만 5000원으로 각각 인상한다. 평소 평일·주말 저녁 가격이 18만5000원이던 것을 고려하면 각각 1만원과 3만원 올랐다. 가격 인상에도 불구하고 더 파크뷰의 12월 주말 예약은 대부분 찼고 12월 평일 예약 역시 빠르게 마감되고 있다고 신라호텔 측은 전했다.\n",
    "\n",
    "롯데호텔 서울의 뷔페 라세느는 12월 평일·주말 저녁 가격을 19만원으로 기존 대비 1만원 올린다. 크리스마스 연휴 때인 23∼25일과 연말 30∼31일 저녁 가격은 20만5000원이다. 롯데호텔 서울의 라세느도 현재 크리스마스 이브인 12월 24일과 크리스마스 당일인 12월 25일 예약은 대부분 마감됐다.\n",
    "\n",
    "워커힐 호텔앤리조트는 그랜드 워커힐에서 운영하던 더뷔페를 비스타 워커힐로 확장 이전해 이날 가격을 올렸다. 평일·주말 저녁 가격은 15만9000원에서 18만9000원으로 3만원 인상됐다. 다만 워커힐은 이번 가격 책정에 인플레이션(물가 상승)을 미리 반영한 만큼 연말을 앞두고 추가 인상을 단행하지 않을 계획이라고 밝혔다.\n",
    "\n",
    "그랜드 인터컨티넨탈 서울 파르나스와 인터컨티넨탈 서울 코엑스도 다음주께 인상된 가격을 공지할 계획이다.'''"
   ]
  },
  {
   "cell_type": "code",
   "execution_count": 23,
   "metadata": {},
   "outputs": [
    {
     "name": "stdout",
     "output_type": "stream",
     "text": [
      "최종 유저 프롬프트\n",
      "====================================================================================================\n",
      "input: 3일 업계에 따르면 서울 신라호텔의 더 파크뷰는 12월 1∼20일 저녁 가격을 19만5000원으로, 21∼31일 저녁 가격을 21만 5000원으로 각각 인상한다. 평소 평일·주말 저녁 가격이 18만5000원이던 것을 고려하면 각각 1만원과 3만원 올랐다. 가격 인상에도 불구하고 더 파크뷰의 12월 주말 예약은 대부분 찼고 12월 평일 예약 역시 빠르게 마감되고 있다고 신라호텔 측은 전했다.\n",
      "\n",
      "롯데호텔 서울의 뷔페 라세느는 12월 평일·주말 저녁 가격을 19만원으로 기존 대비 1만원 올린다. 크리스마스 연휴 때인 23∼25일과 연말 30∼31일 저녁 가격은 20만5000원이다. 롯데호텔 서울의 라세느도 현재 크리스마스 이브인 12월 24일과 크리스마스 당일인 12월 25일 예약은 대부분 마감됐다.\n",
      "\n",
      "워커힐 호텔앤리조트는 그랜드 워커힐에서 운영하던 더뷔페를 비스타 워커힐로 확장 이전해 이날 가격을 올렸다. 평일·주말 저녁 가격은 15만9000원에서 18만9000원으로 3만원 인상됐다. 다만 워커힐은 이번 가격 책정에 인플레이션(물가 상승)을 미리 반영한 만큼 연말을 앞두고 추가 인상을 단행하지 않을 계획이라고 밝혔다.\n",
      "\n",
      "그랜드 인터컨티넨탈 서울 파르나스와 인터컨티넨탈 서울 코엑스도 다음주께 인상된 가격을 공지할 계획이다.\n",
      "keyword: \n",
      "====================================================================================================\n",
      "['서울 신라호텔', '더 파크뷰', '19만5000원', '21만5000원', '롯데호텔 서울', '라세느', '19만원', '20만5000원', '워커힐 호텔앤리조트', '더뷔페', '비스타 워커힐', '18만9000원', '인플레이션', '그랜드 인터컨티넨탈 서울 파르나스', '인터컨티넨탈 서울 코엑스']\n"
     ]
    }
   ],
   "source": [
    "result = return_answer(input_text=text)\n",
    "print(result)"
   ]
  },
  {
   "cell_type": "markdown",
   "metadata": {},
   "source": [
    "### 제목 추출\n",
    "---"
   ]
  },
  {
   "cell_type": "code",
   "execution_count": 25,
   "metadata": {},
   "outputs": [],
   "source": [
    "def return_answer(text):\n",
    "    prompt = '''주어진 텍스트로부터 적절한 제목을 만들어줘. 제목은 간결하고 너무 길어서는 안 돼.'''\n",
    "\n",
    "    response = client.chat.completions.create(\n",
    "    model=\"gpt-4o\",\n",
    "    messages=[\n",
    "        {\"role\": \"system\", \"content\": prompt},\n",
    "          {\"role\": \"user\", \"content\": text}\n",
    "      ]\n",
    "    )\n",
    "    return response.choices[0].message.content"
   ]
  },
  {
   "cell_type": "code",
   "execution_count": 26,
   "metadata": {},
   "outputs": [
    {
     "data": {
      "text/plain": [
       "'금감원장의 해외 출장 논란 및 해명'"
      ]
     },
     "execution_count": 26,
     "metadata": {},
     "output_type": "execute_result"
    }
   ],
   "source": [
    "input_text = '''지난 11일 국회 정무위원회 전체 회의에선 이복현 금융감독원장의 해외 출장길이 도마 에 올랐다. 이 원장이 지난 8일부터 닷새간 동남아 싱가포르·인도네시아·태국 등 주요 3개국 출장을 떠나 이날 회의에 참석하지 못했기 때문이다. 금감원에선 이준수·함용일 부원장이 전체 회의에 대참했다.\n",
    "\n",
    "이 원장의 이번 출장은 국내 금융사의 투자 유치와 해외진출 확대를 지원하기 위해서다. 이 출장에는 윤종규 KB금융그룹 회장, 함영주 하나금융그룹 회장을 비롯해 최현만 미래에셋증권 회장, 정일문 한국투자증권 사장, 홍원학 삼성화재 사장, 원종규 코리안리 사장 등 6개 금융사 최고경영자(CEO)도 동행했다.\n",
    "\n",
    "야당의 지적처럼 금융권 일각에선 이번 출장을 두고 다소 의아하다는 시각이 있었다. 금감원이 해외에서 IR 행사를 하긴 하지만, 금융위원장이 아니라 금감원장이 직접 나간 적은 드물어서다. 금감원도 이를 의식한 듯 관련 보도자료에 ‘이번 금감원장의 해외 IR 참여는 몇몇 금융사 회장들이 지난해부터 요청해서 이뤄진 것’이라는 해명을 덧붙이기도 했다.'''\n",
    "\n",
    "return_answer(input_text)"
   ]
  },
  {
   "cell_type": "markdown",
   "metadata": {},
   "source": [
    "### 감성 분류\n",
    "---"
   ]
  },
  {
   "cell_type": "code",
   "execution_count": 27,
   "metadata": {},
   "outputs": [],
   "source": [
    "def return_answer(text):\n",
    "    prompt = '''주어진 텍스트가 긍정인지 중립인지 부정인지 예측하시오. 당신의 답변은 오로지 [positive, negative, neutral] 셋 중 하나여야만 합니다.\n",
    "    ex) 'SK하이닉스가 2분기 실적에서 역대 최고를 기록하였다' => \"positive\"'''\n",
    "\n",
    "    response = client.chat.completions.create(\n",
    "    model=\"gpt-4o\",\n",
    "    messages=[\n",
    "        {\"role\": \"system\", \"content\": prompt},\n",
    "          {\"role\": \"user\", \"content\": text + \" => \"}\n",
    "      ]\n",
    "    )\n",
    "    return response.choices[0].message.content"
   ]
  },
  {
   "cell_type": "code",
   "execution_count": 28,
   "metadata": {},
   "outputs": [
    {
     "data": {
      "text/plain": [
       "'positive'"
      ]
     },
     "execution_count": 28,
     "metadata": {},
     "output_type": "execute_result"
    }
   ],
   "source": [
    "return_answer('씨씨에스 로고 씨씨에스 주가가 상한가다. 3일 기준 씨씨에스는 29.84%(825원) 상승한 3590원에 거래를 마쳤다. 상온 초전도체 이슈가 부각되면서 주가가 연일 영향을 받는 모양새다.')"
   ]
  }
 ],
 "metadata": {
  "kernelspec": {
   "display_name": "fc_fine_tune",
   "language": "python",
   "name": "python3"
  },
  "language_info": {
   "codemirror_mode": {
    "name": "ipython",
    "version": 3
   },
   "file_extension": ".py",
   "mimetype": "text/x-python",
   "name": "python",
   "nbconvert_exporter": "python",
   "pygments_lexer": "ipython3",
   "version": "3.11.11"
  }
 },
 "nbformat": 4,
 "nbformat_minor": 2
}
