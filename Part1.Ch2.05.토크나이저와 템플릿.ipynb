{
 "cells": [
  {
   "cell_type": "markdown",
   "metadata": {},
   "source": [
    "## 토크나이저 와 템플릿"
   ]
  },
  {
   "cell_type": "markdown",
   "metadata": {},
   "source": [
    "### 라마3 토크나이저\n",
    "---"
   ]
  },
  {
   "cell_type": "code",
   "execution_count": 3,
   "metadata": {},
   "outputs": [],
   "source": [
    "from transformers import AutoTokenizer"
   ]
  },
  {
   "cell_type": "code",
   "execution_count": 4,
   "metadata": {},
   "outputs": [],
   "source": [
    "model_id = \"allganize/Llama-3-Alpha-Ko-8B-Instruct\""
   ]
  },
  {
   "cell_type": "code",
   "execution_count": 5,
   "metadata": {},
   "outputs": [
    {
     "data": {
      "application/vnd.jupyter.widget-view+json": {
       "model_id": "65fe367ede99450db0583860399e20f8",
       "version_major": 2,
       "version_minor": 0
      },
      "text/plain": [
       "tokenizer_config.json:   0%|          | 0.00/51.0k [00:00<?, ?B/s]"
      ]
     },
     "metadata": {},
     "output_type": "display_data"
    },
    {
     "data": {
      "application/vnd.jupyter.widget-view+json": {
       "model_id": "7cb48fee17bc483e87344dd7ff60b702",
       "version_major": 2,
       "version_minor": 0
      },
      "text/plain": [
       "tokenizer.json:   0%|          | 0.00/9.09M [00:00<?, ?B/s]"
      ]
     },
     "metadata": {},
     "output_type": "display_data"
    },
    {
     "data": {
      "application/vnd.jupyter.widget-view+json": {
       "model_id": "4fdf1233235349e7a734860c90dcb861",
       "version_major": 2,
       "version_minor": 0
      },
      "text/plain": [
       "special_tokens_map.json:   0%|          | 0.00/350 [00:00<?, ?B/s]"
      ]
     },
     "metadata": {},
     "output_type": "display_data"
    }
   ],
   "source": [
    "tokenizer = AutoTokenizer.from_pretrained(model_id)"
   ]
  },
  {
   "cell_type": "code",
   "execution_count": 6,
   "metadata": {},
   "outputs": [
    {
     "data": {
      "text/plain": [
       "[128000, 101193, 124409, 13, 64857, 115072, 39331, 13]"
      ]
     },
     "execution_count": 6,
     "metadata": {},
     "output_type": "execute_result"
    }
   ],
   "source": [
    "tokenizer.encode('안녕하세요. 반갑습니다.')"
   ]
  },
  {
   "cell_type": "code",
   "execution_count": 7,
   "metadata": {},
   "outputs": [
    {
     "data": {
      "text/plain": [
       "'<|begin_of_text|>안녕하세요. 반갑습니다.'"
      ]
     },
     "execution_count": 7,
     "metadata": {},
     "output_type": "execute_result"
    }
   ],
   "source": [
    "tokenizer.decode([128000, 101193, 124409, 13, 64857, 115072, 39331, 13])"
   ]
  },
  {
   "cell_type": "markdown",
   "metadata": {},
   "source": [
    "### 템플릿\n",
    "---"
   ]
  },
  {
   "cell_type": "code",
   "execution_count": 8,
   "metadata": {},
   "outputs": [],
   "source": [
    "messages = [\n",
    "    {\"role\": \"system\", \"content\": \"당신은 패스트캠퍼스의 대표 LLM 패캠이입니다.\"},\n",
    "    {\"role\": \"user\", \"content\": \"은행의 기준 금리에 대해서 설명해줘\"}\n",
    "]"
   ]
  },
  {
   "cell_type": "code",
   "execution_count": 9,
   "metadata": {},
   "outputs": [
    {
     "name": "stdout",
     "output_type": "stream",
     "text": [
      "<|begin_of_text|><|start_header_id|>system<|end_header_id|>\n",
      "\n",
      "당신은 패스트캠퍼스의 대표 LLM 패캠이입니다.<|eot_id|><|start_header_id|>user<|end_header_id|>\n",
      "\n",
      "은행의 기준 금리에 대해서 설명해줘<|eot_id|>\n"
     ]
    }
   ],
   "source": [
    "template_messages = tokenizer.apply_chat_template(messages, tokenize=False)\n",
    "print(template_messages)"
   ]
  },
  {
   "cell_type": "code",
   "execution_count": 10,
   "metadata": {},
   "outputs": [
    {
     "name": "stdout",
     "output_type": "stream",
     "text": [
      "템플릿 적용 및 정수 인코딩 후:\n",
      " [128000, 128006, 9125, 128007, 271, 65895, 83628, 34804, 108158, 54289, 108607, 58260, 104247, 120226, 116865, 445, 11237, 108158, 108607, 254, 13094, 80052, 13, 128009, 128006, 882, 128007, 271, 34804, 101066, 21028, 111902, 104193, 111833, 122115, 114942, 34983, 59269, 246, 128009]\n",
      "--------------------------------------------------------------------------------------------------------------------------------------------------------------------------------------------------------\n",
      "템플릿 적용 및 정수 인코딩 결과를 복원:\n",
      " <|begin_of_text|><|start_header_id|>system<|end_header_id|>\n",
      "\n",
      "당신은 패스트캠퍼스의 대표 LLM 패캠이입니다.<|eot_id|><|start_header_id|>user<|end_header_id|>\n",
      "\n",
      "은행의 기준 금리에 대해서 설명해줘<|eot_id|>\n"
     ]
    }
   ],
   "source": [
    "encodeds = tokenizer.apply_chat_template(messages)\n",
    "print('템플릿 적용 및 정수 인코딩 후:\\n', encodeds)\n",
    "print('--' * 100)\n",
    "print('템플릿 적용 및 정수 인코딩 결과를 복원:\\n',tokenizer.decode((encodeds)))"
   ]
  },
  {
   "cell_type": "markdown",
   "metadata": {},
   "source": [
    "### 어시스턴트 시작점\n",
    "---"
   ]
  },
  {
   "cell_type": "code",
   "execution_count": 11,
   "metadata": {},
   "outputs": [
    {
     "name": "stdout",
     "output_type": "stream",
     "text": [
      "[128000, 128006, 9125, 128007, 271, 65895, 83628, 34804, 108158, 54289, 108607, 58260, 104247, 120226, 116865, 445, 11237, 108158, 108607, 254, 13094, 80052, 13, 128009, 128006, 882, 128007, 271, 34804, 101066, 21028, 111902, 104193, 111833, 122115, 114942, 34983, 59269, 246, 128009, 128006, 78191, 128007, 271]\n",
      "템플릿 적용 및 정수 인코딩 결과를 복원:\n",
      " <|begin_of_text|><|start_header_id|>system<|end_header_id|>\n",
      "\n",
      "당신은 패스트캠퍼스의 대표 LLM 패캠이입니다.<|eot_id|><|start_header_id|>user<|end_header_id|>\n",
      "\n",
      "은행의 기준 금리에 대해서 설명해줘<|eot_id|><|start_header_id|>assistant<|end_header_id|>\n",
      "\n",
      "\n"
     ]
    }
   ],
   "source": [
    "encodeds = tokenizer.apply_chat_template(messages, add_generation_prompt=True)\n",
    "print(encodeds)\n",
    "print('템플릿 적용 및 정수 인코딩 결과를 복원:\\n',tokenizer.decode((encodeds)))"
   ]
  },
  {
   "cell_type": "markdown",
   "metadata": {},
   "source": [
    "### Qwen2 템플릿 확인하기\n",
    "---"
   ]
  },
  {
   "cell_type": "code",
   "execution_count": 12,
   "metadata": {},
   "outputs": [
    {
     "data": {
      "application/vnd.jupyter.widget-view+json": {
       "model_id": "29494e632a1d42db9c0b632f132727bc",
       "version_major": 2,
       "version_minor": 0
      },
      "text/plain": [
       "tokenizer_config.json:   0%|          | 0.00/1.29k [00:00<?, ?B/s]"
      ]
     },
     "metadata": {},
     "output_type": "display_data"
    },
    {
     "data": {
      "application/vnd.jupyter.widget-view+json": {
       "model_id": "9fe0e30eb5144abf99df1e3b6348d6a7",
       "version_major": 2,
       "version_minor": 0
      },
      "text/plain": [
       "vocab.json:   0%|          | 0.00/2.78M [00:00<?, ?B/s]"
      ]
     },
     "metadata": {},
     "output_type": "display_data"
    },
    {
     "data": {
      "application/vnd.jupyter.widget-view+json": {
       "model_id": "3d3adb3af53449099ed77f5ccfc9ff8f",
       "version_major": 2,
       "version_minor": 0
      },
      "text/plain": [
       "merges.txt:   0%|          | 0.00/1.67M [00:00<?, ?B/s]"
      ]
     },
     "metadata": {},
     "output_type": "display_data"
    },
    {
     "data": {
      "application/vnd.jupyter.widget-view+json": {
       "model_id": "0a567083cf86449882627cd44fbc1f06",
       "version_major": 2,
       "version_minor": 0
      },
      "text/plain": [
       "tokenizer.json:   0%|          | 0.00/7.03M [00:00<?, ?B/s]"
      ]
     },
     "metadata": {},
     "output_type": "display_data"
    }
   ],
   "source": [
    "model_id = \"Qwen/Qwen2-7B-Instruct\"\n",
    "qwen_tokenizer = AutoTokenizer.from_pretrained(model_id)"
   ]
  },
  {
   "cell_type": "code",
   "execution_count": 15,
   "metadata": {},
   "outputs": [],
   "source": [
    "messages = [\n",
    "    {\"role\": \"system\", \"content\": \"당신은 패스트캠퍼스 챗봇 패캠이입니다. 묻는 말에 친절하고 정확하게 답변하세요.\"},\n",
    "    {\"role\": \"user\", \"content\": \"당신이 누군지 설명해주십시오\"}\n",
    "]"
   ]
  },
  {
   "cell_type": "code",
   "execution_count": 16,
   "metadata": {},
   "outputs": [
    {
     "name": "stdout",
     "output_type": "stream",
     "text": [
      "<|im_start|>system\n",
      "당신은 패스트캠퍼스 챗봇 패캠이입니다. 묻는 말에 친절하고 정확하게 답변하세요.<|im_end|>\n",
      "<|im_start|>user\n",
      "당신이 누군지 설명해주십시오<|im_end|>\n",
      "\n"
     ]
    }
   ],
   "source": [
    "template_messages = qwen_tokenizer.apply_chat_template(messages, tokenize=False)\n",
    "print(template_messages)"
   ]
  },
  {
   "cell_type": "code",
   "execution_count": 21,
   "metadata": {},
   "outputs": [
    {
     "name": "stdout",
     "output_type": "stream",
     "text": [
      "tensor([[151644,   8948,    198,  64795,  82528,  33704,  45104,    101,  53189,\n",
      "         124066,  57160,    235,    120,  24897,   3315,    109,    245, 144415,\n",
      "          45104,    101, 144101,  12802,  78952,     13, 133552,    119,  16560,\n",
      "         126254,  19391,  90711,    250, 126550, 126204,  36055, 133085, 128555,\n",
      "         143604,  91145,     13, 151645,    198, 151644,    872,    198,  64795,\n",
      "          82528,  12802, 138659, 129534,  21329, 133828, 138455, 139713, 151645,\n",
      "            198]])\n"
     ]
    }
   ],
   "source": [
    "encodeds = qwen_tokenizer.apply_chat_template(messages, return_tensors=\"pt\")\n",
    "print(encodeds)\n"
   ]
  },
  {
   "cell_type": "code",
   "execution_count": 31,
   "metadata": {},
   "outputs": [
    {
     "name": "stdout",
     "output_type": "stream",
     "text": [
      "<|im_start|>system\n",
      "당신은 패스트캠퍼스 챗봇 패캠이입니다. 묻는 말에 친절하고 정확하게 답변하세요.<|im_end|>\n",
      "<|im_start|>user\n",
      "당신이 누군지 설명해주십시오<|im_end|>\n",
      "<|im_start|>assistant\n",
      "\n"
     ]
    }
   ],
   "source": [
    "device='mps'\n",
    "\n",
    "encodeds = qwen_tokenizer.apply_chat_template(messages, return_tensors=\"pt\", add_generation_prompt=True)\n",
    "model_inputs = encodeds.to(device)\n",
    "print(qwen_tokenizer.decode(model_inputs[0]))"
   ]
  }
 ],
 "metadata": {
  "kernelspec": {
   "display_name": "fc_fine_tune",
   "language": "python",
   "name": "python3"
  },
  "language_info": {
   "codemirror_mode": {
    "name": "ipython",
    "version": 3
   },
   "file_extension": ".py",
   "mimetype": "text/x-python",
   "name": "python",
   "nbconvert_exporter": "python",
   "pygments_lexer": "ipython3",
   "version": "3.11.11"
  }
 },
 "nbformat": 4,
 "nbformat_minor": 2
}
